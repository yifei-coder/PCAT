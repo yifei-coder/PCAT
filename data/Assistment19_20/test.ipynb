{
 "cells": [
  {
   "cell_type": "code",
   "execution_count": 1,
   "metadata": {},
   "outputs": [],
   "source": [
    "import numpy as np\n",
    "import pandas as pd\n",
    "from tqdm import tqdm"
   ]
  },
  {
   "cell_type": "code",
   "execution_count": 2,
   "metadata": {},
   "outputs": [],
   "source": [
    "q_data = pd.read_csv('2019-2020_school_year/pdets.csv')\n",
    "data_response = pd.read_csv('2019-2020_school_year/plogs.csv')"
   ]
  },
  {
   "cell_type": "code",
   "execution_count": 3,
   "metadata": {},
   "outputs": [
    {
     "data": {
      "text/html": [
       "<div>\n",
       "<style scoped>\n",
       "    .dataframe tbody tr th:only-of-type {\n",
       "        vertical-align: middle;\n",
       "    }\n",
       "\n",
       "    .dataframe tbody tr th {\n",
       "        vertical-align: top;\n",
       "    }\n",
       "\n",
       "    .dataframe thead th {\n",
       "        text-align: right;\n",
       "    }\n",
       "</style>\n",
       "<table border=\"1\" class=\"dataframe\">\n",
       "  <thead>\n",
       "    <tr style=\"text-align: right;\">\n",
       "      <th></th>\n",
       "      <th>log_id</th>\n",
       "      <th>student_id</th>\n",
       "      <th>assignment_id</th>\n",
       "      <th>problem_id</th>\n",
       "      <th>start_time</th>\n",
       "      <th>time_on_task</th>\n",
       "      <th>answer_before_tutoring</th>\n",
       "      <th>fraction_of_hints_used</th>\n",
       "      <th>attempt_count</th>\n",
       "      <th>answer_given</th>\n",
       "      <th>problem_completed</th>\n",
       "      <th>correct</th>\n",
       "    </tr>\n",
       "  </thead>\n",
       "  <tbody>\n",
       "    <tr>\n",
       "      <th>0</th>\n",
       "      <td>139358</td>\n",
       "      <td>1092</td>\n",
       "      <td>13941</td>\n",
       "      <td>1497672</td>\n",
       "      <td>2019-09-02 12:21:21.910000-04:00</td>\n",
       "      <td>89.299</td>\n",
       "      <td>True</td>\n",
       "      <td>NaN</td>\n",
       "      <td>2</td>\n",
       "      <td>False</td>\n",
       "      <td>True</td>\n",
       "      <td>False</td>\n",
       "    </tr>\n",
       "    <tr>\n",
       "      <th>1</th>\n",
       "      <td>139358</td>\n",
       "      <td>1092</td>\n",
       "      <td>13941</td>\n",
       "      <td>1497673</td>\n",
       "      <td>2019-09-02 12:22:52.264000-04:00</td>\n",
       "      <td>44.049</td>\n",
       "      <td>True</td>\n",
       "      <td>NaN</td>\n",
       "      <td>3</td>\n",
       "      <td>True</td>\n",
       "      <td>True</td>\n",
       "      <td>False</td>\n",
       "    </tr>\n",
       "    <tr>\n",
       "      <th>2</th>\n",
       "      <td>139358</td>\n",
       "      <td>1092</td>\n",
       "      <td>13941</td>\n",
       "      <td>1497674</td>\n",
       "      <td>2019-09-02 12:23:37.463000-04:00</td>\n",
       "      <td>22.290</td>\n",
       "      <td>True</td>\n",
       "      <td>NaN</td>\n",
       "      <td>1</td>\n",
       "      <td>False</td>\n",
       "      <td>True</td>\n",
       "      <td>True</td>\n",
       "    </tr>\n",
       "    <tr>\n",
       "      <th>3</th>\n",
       "      <td>139358</td>\n",
       "      <td>1092</td>\n",
       "      <td>13941</td>\n",
       "      <td>1497675</td>\n",
       "      <td>2019-09-02 12:24:00.948000-04:00</td>\n",
       "      <td>290.005</td>\n",
       "      <td>True</td>\n",
       "      <td>NaN</td>\n",
       "      <td>2</td>\n",
       "      <td>True</td>\n",
       "      <td>True</td>\n",
       "      <td>False</td>\n",
       "    </tr>\n",
       "    <tr>\n",
       "      <th>4</th>\n",
       "      <td>139358</td>\n",
       "      <td>1092</td>\n",
       "      <td>13941</td>\n",
       "      <td>1497676</td>\n",
       "      <td>2019-09-03 21:46:04.396000-04:00</td>\n",
       "      <td>34.116</td>\n",
       "      <td>True</td>\n",
       "      <td>NaN</td>\n",
       "      <td>1</td>\n",
       "      <td>False</td>\n",
       "      <td>True</td>\n",
       "      <td>True</td>\n",
       "    </tr>\n",
       "  </tbody>\n",
       "</table>\n",
       "</div>"
      ],
      "text/plain": [
       "   log_id  student_id  assignment_id  problem_id  \\\n",
       "0  139358        1092          13941     1497672   \n",
       "1  139358        1092          13941     1497673   \n",
       "2  139358        1092          13941     1497674   \n",
       "3  139358        1092          13941     1497675   \n",
       "4  139358        1092          13941     1497676   \n",
       "\n",
       "                         start_time  time_on_task answer_before_tutoring  \\\n",
       "0  2019-09-02 12:21:21.910000-04:00        89.299                   True   \n",
       "1  2019-09-02 12:22:52.264000-04:00        44.049                   True   \n",
       "2  2019-09-02 12:23:37.463000-04:00        22.290                   True   \n",
       "3  2019-09-02 12:24:00.948000-04:00       290.005                   True   \n",
       "4  2019-09-03 21:46:04.396000-04:00        34.116                   True   \n",
       "\n",
       "   fraction_of_hints_used  attempt_count  answer_given  problem_completed  \\\n",
       "0                     NaN              2         False               True   \n",
       "1                     NaN              3          True               True   \n",
       "2                     NaN              1         False               True   \n",
       "3                     NaN              2          True               True   \n",
       "4                     NaN              1         False               True   \n",
       "\n",
       "  correct  \n",
       "0   False  \n",
       "1   False  \n",
       "2    True  \n",
       "3   False  \n",
       "4    True  "
      ]
     },
     "execution_count": 3,
     "metadata": {},
     "output_type": "execute_result"
    }
   ],
   "source": [
    "data_response.head()"
   ]
  },
  {
   "cell_type": "code",
   "execution_count": 4,
   "metadata": {},
   "outputs": [
    {
     "data": {
      "text/html": [
       "<div>\n",
       "<style scoped>\n",
       "    .dataframe tbody tr th:only-of-type {\n",
       "        vertical-align: middle;\n",
       "    }\n",
       "\n",
       "    .dataframe tbody tr th {\n",
       "        vertical-align: top;\n",
       "    }\n",
       "\n",
       "    .dataframe thead th {\n",
       "        text-align: right;\n",
       "    }\n",
       "</style>\n",
       "<table border=\"1\" class=\"dataframe\">\n",
       "  <thead>\n",
       "    <tr style=\"text-align: right;\">\n",
       "      <th></th>\n",
       "      <th>problem_id</th>\n",
       "      <th>content_source</th>\n",
       "      <th>skills</th>\n",
       "      <th>problem_type</th>\n",
       "      <th>tutoring_types</th>\n",
       "      <th>student_answer_count</th>\n",
       "      <th>mean_correct</th>\n",
       "      <th>mean_time_on_task</th>\n",
       "    </tr>\n",
       "  </thead>\n",
       "  <tbody>\n",
       "    <tr>\n",
       "      <th>0</th>\n",
       "      <td>16.0</td>\n",
       "      <td>['Certified Content', 'Engage New York']</td>\n",
       "      <td>['8.F.B.5']</td>\n",
       "      <td>Multiple Choice</td>\n",
       "      <td>['Scaffold']</td>\n",
       "      <td>16</td>\n",
       "      <td>0.875000</td>\n",
       "      <td>62.389875</td>\n",
       "    </tr>\n",
       "    <tr>\n",
       "      <th>1</th>\n",
       "      <td>33.0</td>\n",
       "      <td>['Certified Content', 'Engage New York']</td>\n",
       "      <td>['8.NS.A.2-1']</td>\n",
       "      <td>Multiple Choice</td>\n",
       "      <td>['Hint']</td>\n",
       "      <td>80</td>\n",
       "      <td>0.734177</td>\n",
       "      <td>NaN</td>\n",
       "    </tr>\n",
       "    <tr>\n",
       "      <th>2</th>\n",
       "      <td>35.0</td>\n",
       "      <td>['Certified Content', 'Engage New York']</td>\n",
       "      <td>['8.NS.A.2-1']</td>\n",
       "      <td>Exact Match (case sensitive)</td>\n",
       "      <td>['Hint']</td>\n",
       "      <td>34</td>\n",
       "      <td>0.323529</td>\n",
       "      <td>NaN</td>\n",
       "    </tr>\n",
       "    <tr>\n",
       "      <th>3</th>\n",
       "      <td>37.0</td>\n",
       "      <td>['Certified Content', 'Engage New York']</td>\n",
       "      <td>['8.NS.A.2-1']</td>\n",
       "      <td>Exact Match (case sensitive)</td>\n",
       "      <td>['Hint']</td>\n",
       "      <td>28</td>\n",
       "      <td>0.857143</td>\n",
       "      <td>NaN</td>\n",
       "    </tr>\n",
       "    <tr>\n",
       "      <th>4</th>\n",
       "      <td>39.0</td>\n",
       "      <td>['Certified Content', 'Engage New York']</td>\n",
       "      <td>['8.NS.A.2-1']</td>\n",
       "      <td>Multiple Choice</td>\n",
       "      <td>['Hint']</td>\n",
       "      <td>26</td>\n",
       "      <td>0.423077</td>\n",
       "      <td>NaN</td>\n",
       "    </tr>\n",
       "  </tbody>\n",
       "</table>\n",
       "</div>"
      ],
      "text/plain": [
       "   problem_id                            content_source          skills  \\\n",
       "0        16.0  ['Certified Content', 'Engage New York']     ['8.F.B.5']   \n",
       "1        33.0  ['Certified Content', 'Engage New York']  ['8.NS.A.2-1']   \n",
       "2        35.0  ['Certified Content', 'Engage New York']  ['8.NS.A.2-1']   \n",
       "3        37.0  ['Certified Content', 'Engage New York']  ['8.NS.A.2-1']   \n",
       "4        39.0  ['Certified Content', 'Engage New York']  ['8.NS.A.2-1']   \n",
       "\n",
       "                   problem_type tutoring_types  student_answer_count  \\\n",
       "0               Multiple Choice   ['Scaffold']                    16   \n",
       "1               Multiple Choice       ['Hint']                    80   \n",
       "2  Exact Match (case sensitive)       ['Hint']                    34   \n",
       "3  Exact Match (case sensitive)       ['Hint']                    28   \n",
       "4               Multiple Choice       ['Hint']                    26   \n",
       "\n",
       "   mean_correct  mean_time_on_task  \n",
       "0      0.875000          62.389875  \n",
       "1      0.734177                NaN  \n",
       "2      0.323529                NaN  \n",
       "3      0.857143                NaN  \n",
       "4      0.423077                NaN  "
      ]
     },
     "execution_count": 4,
     "metadata": {},
     "output_type": "execute_result"
    }
   ],
   "source": [
    "q_data.head()"
   ]
  },
  {
   "cell_type": "code",
   "execution_count": 5,
   "metadata": {},
   "outputs": [],
   "source": [
    "data_response = data_response.dropna(subset=['correct'])\n",
    "q_data = q_data.dropna(subset=['skills'])\n",
    "data_response = data_response.loc[data_response['problem_id'].isin(q_data['problem_id'].unique())]"
   ]
  },
  {
   "cell_type": "code",
   "execution_count": 6,
   "metadata": {},
   "outputs": [],
   "source": [
    "response_data = dict()\n",
    "stu_response_data = dict() \n",
    "stu_num = np.random.choice(np.arange(163097), size=2000, replace=False)\n",
    "least_respone_num = 40\n",
    "original_stu_map = dict()\n",
    "original_cnt_stu = 0\n",
    "\n",
    "for stu in data_response[\"student_id\"].unique():\n",
    "    original_stu_map[original_cnt_stu] = stu\n",
    "    original_cnt_stu += 1"
   ]
  },
  {
   "cell_type": "code",
   "execution_count": 7,
   "metadata": {},
   "outputs": [
    {
     "name": "stderr",
     "output_type": "stream",
     "text": [
      "Filter student:   0%|          | 0/2000 [00:00<?, ?it/s]"
     ]
    },
    {
     "name": "stderr",
     "output_type": "stream",
     "text": [
      "Filter student: 100%|██████████| 2000/2000 [00:10<00:00, 189.82it/s]\n"
     ]
    }
   ],
   "source": [
    "for stu in tqdm(stu_num, desc='Filter student'):\n",
    "    stu_data = data_response.loc[data_response[\"student_id\"] == original_stu_map[stu]]\n",
    "    for data in stu_data.values:\n",
    "        tmp_data = (stu, data[3])\n",
    "        response_data[tmp_data] = (data[11] == True)\n",
    "\n",
    "for key, value in response_data.items():\n",
    "    if key[0] not in stu_response_data:\n",
    "        stu_response_data[key[0]] = []\n",
    "    stu_response_data[key[0]].append([int(key[0]), key[1], int(value)])"
   ]
  },
  {
   "cell_type": "code",
   "execution_count": 8,
   "metadata": {},
   "outputs": [
    {
     "name": "stderr",
     "output_type": "stream",
     "text": [
      "Remap student_id, question_id and concept_id: 100%|██████████| 2000/2000 [00:15<00:00, 132.96it/s]\n"
     ]
    }
   ],
   "source": [
    "stu_map = dict()\n",
    "cnt_stu = 0\n",
    "question_set = set()\n",
    "cnt_question = 0\n",
    "question_map = dict()\n",
    "concept_set = set()\n",
    "cnt_concept = 0\n",
    "concept_map = dict()\n",
    "\n",
    "\n",
    "for key, value in tqdm(stu_response_data.items(), desc='Remap student_id, question_id and concept_id'):\n",
    "    if len(value) >= least_respone_num:\n",
    "        stu_map[key] = cnt_stu\n",
    "        cnt_stu += 1\n",
    "        for data in value:\n",
    "            question_set.add(data[1])\n",
    "            for concept in q_data.loc[q_data[\"problem_id\"] == data[1]]['skills'].iloc[0].split(','):\n",
    "                concept_set.add(concept)\n",
    "\n",
    "\n",
    "for question in question_set:\n",
    "    question_map[question] = cnt_question\n",
    "    cnt_question += 1\n",
    "\n",
    "for concept in concept_set:\n",
    "    concept_map[concept] = cnt_concept\n",
    "    cnt_concept += 1"
   ]
  },
  {
   "cell_type": "code",
   "execution_count": 9,
   "metadata": {},
   "outputs": [
    {
     "name": "stderr",
     "output_type": "stream",
     "text": [
      "Construct final data: 100%|██████████| 2000/2000 [00:14<00:00, 142.34it/s]\n"
     ]
    },
    {
     "name": "stdout",
     "output_type": "stream",
     "text": [
      "Final student number: 416, Final question number: 13234, Final concept number: 646, Final response number: 43605\n"
     ]
    }
   ],
   "source": [
    "TotalData = []\n",
    "q_matrix = np.zeros((cnt_question, cnt_concept))\n",
    "\n",
    "for key, value in tqdm(stu_response_data.items(), desc='Construct final data'):\n",
    "    if len(value) >= least_respone_num:\n",
    "        for data in value:\n",
    "            TotalData.append([stu_map[data[0]], question_map[data[1]], data[2]])\n",
    "            for concept in q_data.loc[q_data[\"problem_id\"] == data[1]]['skills'].iloc[0].split(','):\n",
    "                q_matrix[question_map[data[1]]][concept_map[concept]] = 1\n",
    "\n",
    "print('Final student number: {}, Final question number: {}, Final concept number: {}, Final response number: {}'.format(cnt_stu, cnt_question, cnt_concept, len(TotalData)))"
   ]
  },
  {
   "cell_type": "code",
   "execution_count": 10,
   "metadata": {},
   "outputs": [],
   "source": [
    "# 提取第三列\n",
    "third_column = [row[2] for row in TotalData]\n",
    "\n",
    "# 计算平均值\n",
    "average = np.mean(third_column)"
   ]
  },
  {
   "cell_type": "code",
   "execution_count": 11,
   "metadata": {},
   "outputs": [
    {
     "data": {
      "text/plain": [
       "0.6872377020983832"
      ]
     },
     "execution_count": 11,
     "metadata": {},
     "output_type": "execute_result"
    }
   ],
   "source": [
    "average"
   ]
  },
  {
   "cell_type": "code",
   "execution_count": null,
   "metadata": {},
   "outputs": [],
   "source": []
  }
 ],
 "metadata": {
  "kernelspec": {
   "display_name": "base",
   "language": "python",
   "name": "python3"
  },
  "language_info": {
   "codemirror_mode": {
    "name": "ipython",
    "version": 3
   },
   "file_extension": ".py",
   "mimetype": "text/x-python",
   "name": "python",
   "nbconvert_exporter": "python",
   "pygments_lexer": "ipython3",
   "version": "3.7.0"
  }
 },
 "nbformat": 4,
 "nbformat_minor": 2
}
